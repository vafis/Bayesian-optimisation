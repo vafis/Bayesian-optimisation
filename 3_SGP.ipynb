{
 "cells": [
  {
   "cell_type": "code",
   "execution_count": 1,
   "metadata": {},
   "outputs": [
    {
     "name": "stdout",
     "output_type": "stream",
     "text": [
      "___________________________________________________________________________\n",
      "   \n",
      "                                    SGP\n",
      "___________________________________________________________________________\n",
      "   \n",
      " Problem size\n",
      "   \n",
      "      # training points.        : 30\n",
      "   \n",
      "___________________________________________________________________________\n",
      "   \n",
      " Training\n",
      "   \n",
      "   Training ...\n",
      "   Training - done. Time (sec):  0.2580180\n",
      "___________________________________________________________________________\n",
      "   \n",
      " Evaluation\n",
      "   \n",
      "      # eval points. : 10000\n",
      "   \n",
      "   Predicting ...\n",
      "   Predicting - done. Time (sec):  0.0085030\n",
      "   \n",
      "   Prediction time/pt. (sec) :  0.0000009\n",
      "   \n",
      "[0.02680421 0.38434875 0.05086085 0.0713506 ]\n"
     ]
    }
   ],
   "source": [
    "#%%\n",
    "\n",
    "import os\n",
    "import numpy as np\n",
    "from smt.surrogate_models import SGP\n",
    "from smt.sampling_methods import LHS\n",
    "import scipy\n",
    "\n",
    "\n",
    "function_ = 'function_4' \n",
    "xt = np.load(os.getcwd() + f'\\\\initial_data\\\\{function_}\\\\initial_inputs.npy')\n",
    "yt = np.load(os.getcwd() + f'\\\\initial_data\\\\{function_}\\\\initial_outputs.npy')\n",
    "\n",
    "\n",
    "\n",
    "if(function_ == 'function_1'):\n",
    "    ndim = 2\n",
    "if(function_ == 'function_4'):\n",
    "    ndim = 4\n",
    "if(function_ == 'function_8'):\n",
    "    ndim = 8\n",
    "max_obs=0      \n",
    "\n",
    "\n",
    " \n",
    "\n",
    "sgp = SGP(method=\"VFE\")  #Fully Independent Training Conditional (FITC) method or the Variational Free Energy (VFE)\n",
    "sgp.set_training_values(xt, yt)\n",
    "#sgp.set_inducing_inputs(Z=Z)\n",
    "sgp.set_inducing_inputs()  # When Z not specified n_inducing points are picked randomly in traing data\n",
    "sgp.train()\n",
    "\n",
    "from smt.problems import TensorProduct\n",
    "prob = TensorProduct(ndim=ndim, func=\"gaussian\")\n",
    "xlimits = prob.xlimits\n",
    "\n",
    "if(function_ == 'function_1'):\n",
    "        xlimits = np.array([[0.01, 0.99], [0.01, 0.99]])\n",
    "        \n",
    "if(function_ == 'function_4'):\n",
    "        xlimits = np.array([[0.0, 1.0], [0.0, 1.0],[0.0, 1.0], [0.0, 1.0]])\n",
    "\n",
    "if(function_ == 'function_8'):\n",
    "    xlimits = np.array([[0.0, 1.0], [0.0, 1.0],[0.0, 1.0], [0.0, 1.0],[0.0, 1.0], [0.0, 1.0],[0.0, 1.0], [0.0, 1.0]])\n",
    "\n",
    " \n",
    "samp = LHS(xlimits=xlimits, random_state=42, criterion='correlation' )\n",
    "x = samp(10000)    \n",
    "    \n",
    "hat_y  = sgp.predict_values(x)\n",
    "var = sgp.predict_variances(x)\n",
    "\n",
    "    \n",
    "acquisition_function = []\n",
    "Z = (hat_y  - max_obs - 0) / np.sqrt(var)\n",
    "probs = scipy.stats.norm.cdf(Z)\n",
    "acquisition_function = np.array(probs)\n",
    "    \n",
    "idx_max = np.argmax(acquisition_function)\n",
    "next_query = x[idx_max]\n",
    "\n",
    "print(next_query)"
   ]
  },
  {
   "cell_type": "code",
   "execution_count": null,
   "metadata": {},
   "outputs": [],
   "source": [
    "# %%\n"
   ]
  }
 ],
 "metadata": {
  "kernelspec": {
   "display_name": "base",
   "language": "python",
   "name": "python3"
  },
  "language_info": {
   "codemirror_mode": {
    "name": "ipython",
    "version": 3
   },
   "file_extension": ".py",
   "mimetype": "text/x-python",
   "name": "python",
   "nbconvert_exporter": "python",
   "pygments_lexer": "ipython3",
   "version": "3.11.9"
  }
 },
 "nbformat": 4,
 "nbformat_minor": 2
}
