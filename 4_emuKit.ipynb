{
 "cells": [
  {
   "cell_type": "code",
   "execution_count": 1,
   "metadata": {},
   "outputs": [],
   "source": [
    "#%%\n",
    "import GPy\n",
    "\n",
    "import os\n",
    "from matplotlib import pyplot as plt\n",
    "import numpy as np\n",
    "\n",
    "from emukit.core import ParameterSpace, ContinuousParameter\n",
    "#from emukit.emukit.model_wrappers.gpy_model_wrappers import GPyModelWrapper\n"
   ]
  },
  {
   "cell_type": "code",
   "execution_count": 55,
   "metadata": {},
   "outputs": [
    {
     "name": "stdout",
     "output_type": "stream",
     "text": [
      "selected function : function_1\n"
     ]
    }
   ],
   "source": [
    "#%%\n",
    "# SELECT FUNCTION \n",
    "# function_1, function_2, function_3 ....\n",
    "\n",
    "function_ = 'function_1' \n",
    "\n",
    "print('selected function :', function_ )\n"
   ]
  },
  {
   "cell_type": "code",
   "execution_count": 56,
   "metadata": {},
   "outputs": [
    {
     "name": "stdout",
     "output_type": "stream",
     "text": [
      "next--> [[0.05537432 0.01425152]]\n"
     ]
    }
   ],
   "source": [
    "#%%\n",
    "\n",
    "\n",
    "\n",
    "from emukit.model_wrappers.gpy_model_wrappers import GPyModelWrapper\n",
    "\n",
    "\n",
    "np.random.seed(0)\n",
    "functionsX = {'function_1' : [[0.753627,0.758346],[0.753627, 0.758346],[0.741239, 0.742157],[0.737339, 0.739188],[0.735417, 0.73715],[0.687241, 0.879359],[0.726002, 0.742615],[0.748625, 0.752819],\n",
    "                              [0.718514, 0.982342],[0.584259, 0.621041],[0.960939, 0.044722]],\n",
    "              'function_2' : [[0.869851, 0.717543],[0.885227, 0.712664],[0.701541, 0.936788],[0.699507, 0.946349],[0.718496, 0.943443],[0.86575,  0.740114],[0.650556, 0.102694],[0.676746, 0.141022],\n",
    "                              [0.674585, 0.100889],[0.719808, 0.96008 ],[0.721091, 0.444595]],\n",
    "              'function_3' : [[0.436884, 0.453066, 0.442615],[0.742412, 0.625096, 0.423735],[0.013604, 0.41805,  0.002959],[0.87024,  0.44147,  0.853325],[0.053941, 0.611792, 0.423061],[0.791606, 0.645307, 0.44204 ],[0.987013, 0.039269, 0.863714],[0.687348, 0.614735, 0.409482],[0.411285, 0.511588 ,0.394986],[0.999031, 0.521639, 0.379081],[0.051268, 0.007585, 0.576179]],\n",
    "              'function_4' : [[0.426795, 0.479769, 0.340198, 0.377447],[0.393425, 0.385125, 0.281147, 0.447438],[0.483767, 0.515794, 0.046112, 0.382769],[0.342797, 0.533031, 0.47775,  0.396177],[0.519668, 0.39047 , 0.398623, 0.489297],[0.449242, 0.423734, 0.367554 ,0.345862],[0.376501, 0.365869, 0.362371, 0.331985],[0.430146, 0.3755,   0.365214, 0.338847],[0.244654, 0.414485, 0.743178 ,0.014612],[0.028502, 0.363645, 0.355558, 0.01468 ],[0.478612 ,0.773327, 0.539952 ,0.367975]],\n",
    "              'function_5' : [[0.196419, 0.712628, 0.182004, 0.927412],[0.314736, 0.796046, 0.876858 ,0.909077],[0.653732, 0.919551, 0.884044, 0.886911],[0.802605, 0.958291, 0.90654,  0.913217],[0.846631, 0.982476, 0.941956, 0.881725],[0.972948, 0.959406, 0.926498, 0.959073],[0.962567 ,0.704589, 0.987993, 0.987491],[0.999332, 0.913161, 0.952344, 0.6715  ],[0.051186, 0.001218, 0.060896, 0.048893],[0.976804, 0.835011, 0.575235, 0.987035],[0.871881, 0.040784 ,0.421439, 0.132931]],\n",
    "              'function_6' : [[0.828527, 0.490185, 0.650857, 0.653384, 0.201982],[0.1879 ,  0.772747, 0.142921 ,0.881072 ,0.299875],[0.405877 ,0.350572, 0.768315, 0.809696 ,0.227878],[0.445104, 0.258952, 0.660093, 0.940312, 0.134045],[0.74181,  0.374745 ,0.967623, 0.947015 ,0.108571],[0.179769 ,0.356094, 0.602267 ,0.905398 ,0.280314],[0.869837, 0.21565,  0.60031,  0.768642, 0.220836],[0.444576, 0.153262, 0.601105, 0.980082, 0.354228],[0.369451, 0.410597 ,0.62238,  0.576199 ,0.063835],[0.182544 ,0.032386, 0.690393, 0.946602, 0.052995],[0.172216, 0.213789, 0.473354 ,0.960516 ,0.142491]],\n",
    "              'function_7' : [[0.117664, 0.836374, 0.063828, 0.405321, 0.351986, 0.767542],[0.117664, 0.836374, 0.063828 ,0.405321 ,0.351986, 0.767542],[0.078874, 0.359338 ,0.5312  , 0.263829 ,0.373021 ,0.742663],[0.120986, 0.373404, 0.52808,  0.287446 ,0.385719 ,0.718397],[0.139879 ,0.193943, 0.595063 ,0.321586, 0.462417, 0.718124],[0.090231, 0.309703, 0.538872, 0.278155, 0.468731, 0.669053],\n",
    "[0.15844 , 0.172551, 0.542125 ,0.290842, 0.411661 ,0.754011],[0.564533, 0.948451 ,0.529918 ,0.233683 ,0.409837 ,0.852713],[0.305934 ,0.189835, 0.54302,  0.236749, 0.411095, 0.664773],[0.139944, 0.221722, 0.430041 ,0.341628, 0.227579 ,0.608786],[0.266913, 0.574107 ,0.495638, 0.643367 ,0.542761, 0.544469]],\n",
    "              'function_8' : [[0.553103, 0.489392, 0.827792, 0.878752, 0.772732 ,0.643086, 0.700645, 0.171098],[0.553103, 0.489392, 0.827792 ,0.878752, 0.772732 ,0.643086 ,0.700645 ,0.171098],[0.497793, 0.440453, 0.745013, 0.790876 ,0.695459 ,0.578777, 0.630581, 0.153988],[0.283937, 0.732095, 0.515531 ,0.196625, 0.569685 ,0.306315, 0.336283 ,0.867082],\n",
    "[0.314407, 0.107293, 0.319734, 0.548849, 0.132456 ,0.471275, 0.473812 ,0.477693],[0.262341, 0.567595, 0.20429,  0.107194 ,0.41675 , 0.229322, 0.473387, 0.914288],[0.237946, 0.210493, 0.287259, 0.314341, 0.670873, 0.367083, 0.468161 ,0.875121],[0.178486, 0.084234, 0.088728 ,0.133884 ,0.616873, 0.522435 ,0.48661,  0.340978],\n",
    "[0.553103, 0.489392, 0.827792, 0.878752, 0.772732, 0.643086 ,0.700645 ,0.171098],[0.148322, 0.551584, 0.414264, 0.344539, 0.407036, 0.424793, 0.512067, 0.622001],[0.211528 ,0.087577, 0.408237, 0.12721 , 0.598922 ,0.097869, 0.570756, 0.732901]]     \n",
    "            };\n",
    "\n",
    "functionsY = {'function_1' : [6.956479380350923*np.exp(-24), 6.956479380350923*np.exp(-24), 1.0849193869919068*np.exp(-19),\n",
    "                             3.688188175654766*np.exp(-18), 2.2372411166569902*np.exp(-17), 8.958780229862187*np.exp(-47), 4.923470703856277*np.exp(-17),\n",
    "                             8.218049963770359*np.exp(-23), 6.626430732658055*np.exp(-95), -0.015089895, 1.0210982155508355*np.exp(-301)],\n",
    "             'function_2' : [0.5612684992245757,0.378779457,0.627950887,0.6878693933501874,0.5903233275430969,0.5065835699033647,0.37774594979458787,\n",
    "                             0.49194534719852134,0.541025352,0.4933018420229806,0.48011068363249665],\n",
    "             'function_3' : [-0.014458426,-0.003617993,-0.110317615,-0.052213117,-0.003129368,-0.008176557,-0.114444262,-0.010656088,-0.015619712,-0.039473591,-0.104392512],\n",
    "             'function_4' : [-0.852032278,-1.724647334,-9.029892788,-2.596945823,-2.780597185,0.16080956473882368,0.23857069917150797,0.39208510653798045,-14.59011969,-14.09791281,-10.42245946,],\n",
    "             'function_5' : [197.93730027395497,1048.086608259178,1947.2874420933802,3284.5243198044022,3936.987752691248,5704.044572223114,4507.8106692894935,3546.770408355354,162.94435922597447,2766.7873893932583,13.59883957324116],\n",
    "             'function_6' : [-0.776584375,-1.454134834,-0.258337294,-0.455156289,-0.855343994,-0.563717586,-0.727845994,-0.689548011,-0.338160992,-0.812466817,-0.794085148],\n",
    "             'function_7' : [0.36384366313112276,0.36384366313112276,2.4260007022004753,2.455428195886852,2.177793073929895,2.094441487413115,2.619881006244538,0.1439275286427469,2.6696196835086003,\n",
    "                             2.7095148847475135,0.27695319603177226],\n",
    "             'function_8' : [6.94185601,6.94185601,7.651350603604101,9.037107654,9.264083347278099,9.44845039,9.679689635,9.789713967,6.94185601,9.276110297,9.279847698]         \n",
    "            };\n",
    "\n",
    "\n",
    "\n",
    "#function_ = 'function_8' \n",
    "xt1 = np.load(f'd:\\Imperial College Business School\\Bayesian_Optimization\\\\\\initial_data\\\\{function_}\\\\initial_inputs.npy')\n",
    "xt2 = np.load(f'd:\\Imperial College Business School\\Bayesian_Optimization\\\\\\initial_data\\\\{function_}\\\\initial_inputs2.npy')\n",
    "xt3 = functionsX[function_]\n",
    "xt=np.concatenate((xt1, xt2, xt3), axis=0)\n",
    "yt1 = np.load( f'd:\\Imperial College Business School\\Bayesian_Optimization\\\\\\initial_data\\\\{function_}\\\\initial_outputs.npy')\n",
    "yt2 = np.load(f'd:\\Imperial College Business School\\Bayesian_Optimization\\\\\\initial_data\\\\{function_}\\\\initial_outputs2.npy')\n",
    "yt3 = functionsY[function_]\n",
    "yt=np.concatenate((yt1, yt2, yt3), axis=0)\n",
    "\n",
    "\n",
    "\n",
    "\n",
    "\n",
    "if(function_ == 'function_1' or function_ == 'function_2'):\n",
    "    parameter_space=ParameterSpace([ContinuousParameter('var1', 0, 1),ContinuousParameter('var2', 0, 1)])\n",
    "\n",
    "if(function_ == 'function_3'):\n",
    "        parameter_space=ParameterSpace([ContinuousParameter('var1', 0, 1),ContinuousParameter('var2', 0, 1),\n",
    "                                        ContinuousParameter('var3', 0, 1)])\n",
    "if(function_ == 'function_4' or function_ == 'function_5'):\n",
    "    parameter_space=ParameterSpace([ContinuousParameter('var1', 0, 1),ContinuousParameter('var2', 0, 1)\n",
    "                                    ,ContinuousParameter('var3', 0, 1),ContinuousParameter('var4', 0, 1)])\n",
    "if(function_ == 'function_6'):\n",
    "        parameter_space=ParameterSpace([ContinuousParameter('var1', 0, 1),ContinuousParameter('var2', 0, 1)\n",
    "                                     ,ContinuousParameter('var3', 0, 1),ContinuousParameter('var4', 0, 1),\n",
    "                                     ContinuousParameter('var5', 0, 1)])\n",
    "if(function_ == 'function_7'):\n",
    "            parameter_space=ParameterSpace([ContinuousParameter('var1', 0, 1),ContinuousParameter('var2', 0, 1)\n",
    "                                     ,ContinuousParameter('var3', 0, 1),ContinuousParameter('var4', 0, 1),\n",
    "                                     ContinuousParameter('var5', 0, 1),ContinuousParameter('var6', 0, 1)])\n",
    "if(function_ == 'function_8'):\n",
    "                parameter_space=ParameterSpace([ContinuousParameter('var1', -0, 1),ContinuousParameter('var2', 0, 1)\n",
    "                                     ,ContinuousParameter('var3', 0, 1),ContinuousParameter('var4', 0, 1),\n",
    "                                     ContinuousParameter('var5', 0, 1),ContinuousParameter('var6', 0, 1),\n",
    "                                     ContinuousParameter('var7', 0, 1),ContinuousParameter('var8', 0, 1)])\n",
    "                \n",
    "           \n",
    "\n",
    "\n",
    "kern=GPy.kern.Matern52(input_dim=xt.shape[1], ARD=True)+GPy.kern.Bias(input_dim=xt.shape[1])\n",
    "Model_gpy=GPy.models.GPRegression(X=xt, Y=yt.reshape(yt.shape[0], 1), kernel=kern,\n",
    "normalizer=False, noise_var=0.01, mean_function=None)\n",
    "Model_gpy.optimize()\n",
    "Model_emukit=GPyModelWrapper(Model_gpy)\n",
    "\n",
    "from emukit.bayesian_optimization.acquisitions.expected_improvement import ExpectedImprovement\n",
    "from emukit.bayesian_optimization.loops import BayesianOptimizationLoop\n",
    "from emukit.core.optimization import GradientAcquisitionOptimizer\n",
    "from emukit.core.optimization.optimizer import OptLbfgs, apply_optimizer\n",
    "AcqFun=ExpectedImprovement(model=Model_emukit)\n",
    "AcqFun_opt=GradientAcquisitionOptimizer(space=parameter_space)\n",
    "\n",
    "#OptLbfgs_opt=OptLbfgs(bounds=[(-1, 1), (-1, 1),(-1, 1), (-1, 1),(-1, 1), (-1, 1),(-1, 1), (-1, 1)], max_iterations=100)\n",
    "BO=BayesianOptimizationLoop(space=parameter_space, model=Model_emukit, acquisition=AcqFun,\n",
    " batch_size=1, acquisition_optimizer=AcqFun_opt) \n",
    "x_next= BO.get_next_points(None)\n",
    "\n",
    "print('next-->', x_next)\n",
    "\n",
    "\n"
   ]
  }
 ],
 "metadata": {
  "kernelspec": {
   "display_name": "py38",
   "language": "python",
   "name": "python3"
  },
  "language_info": {
   "codemirror_mode": {
    "name": "ipython",
    "version": 3
   },
   "file_extension": ".py",
   "mimetype": "text/x-python",
   "name": "python",
   "nbconvert_exporter": "python",
   "pygments_lexer": "ipython3",
   "version": "3.8.19"
  }
 },
 "nbformat": 4,
 "nbformat_minor": 2
}
